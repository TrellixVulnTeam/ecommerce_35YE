{
 "cells": [
  {
   "cell_type": "code",
   "execution_count": 2,
   "outputs": [],
   "source": [
    "# importing libraries\n",
    "import pandas as pd\n",
    "import matplotlib.pyplot as plt\n",
    "import sys\n",
    "\n",
    "sys.path.append(\"..\")"
   ],
   "metadata": {
    "collapsed": false,
    "pycharm": {
     "name": "#%%\n"
    }
   }
  },
  {
   "cell_type": "code",
   "execution_count": 3,
   "outputs": [],
   "source": [
    "# importing the dataset\n",
    "data = pd.read_csv(\"data.csv\", encoding = \"ISO-8859--1\")\n",
    "data['TransactionAmount'] = data['UnitPrice'] * data['Quantity']"
   ],
   "metadata": {
    "collapsed": false,
    "pycharm": {
     "name": "#%%\n"
    }
   }
  },
  {
   "cell_type": "code",
   "execution_count": 4,
   "outputs": [
    {
     "name": "stdout",
     "output_type": "stream",
     "text": [
      "['United Kingdom' 'France' 'Australia' 'Netherlands' 'Germany' 'Norway'\n",
      " 'EIRE' 'Switzerland' 'Spain' 'Poland' 'Portugal' 'Italy' 'Belgium'\n",
      " 'Lithuania' 'Japan' 'Iceland' 'Channel Islands' 'Denmark' 'Cyprus'\n",
      " 'Sweden' 'Austria' 'Israel' 'Finland' 'Bahrain' 'Greece' 'Hong Kong'\n",
      " 'Singapore' 'Lebanon' 'United Arab Emirates' 'Saudi Arabia'\n",
      " 'Czech Republic' 'Canada' 'Unspecified' 'Brazil' 'USA'\n",
      " 'European Community' 'Malta' 'RSA']\n"
     ]
    },
    {
     "data": {
      "text/plain": "       InvoiceNo StockCode                          Description  Quantity  \\\n119191    546533     20886              BOX OF 9 PEBBLE CANDLES        12   \n119192    546533    79030D                     TUMBLER, BAROQUE         6   \n119193    546533     21132             SILVER STANDING GNOME            4   \n119194    546533     84879        ASSORTED COLOUR BIRD ORNAMENT         8   \n119195    546533     84755  COLOUR GLASS T-LIGHT HOLDER HANGING        16   \n...          ...       ...                                  ...       ...   \n312960    564428     21993           FLORAL FOLK STATIONERY SET        12   \n312961    564428     23295     SET OF 12 MINI LOAF BAKING CASES         8   \n312962    564428     23293    SET OF 12 FAIRY CAKE BAKING CASES        16   \n312963    564428     23296       SET OF 6 TEA TIME BAKING CASES         8   \n312964    564428     23294     SET OF 6 SNACK LOAF BAKING CASES         8   \n\n            InvoiceDate  UnitPrice  CustomerID  TransactionAmount  \n119191  3/14/2011 13:53       1.95     15388.0              23.40  \n119192  3/14/2011 13:53       1.65     15388.0               9.90  \n119193  3/14/2011 13:53       4.25     15388.0              17.00  \n119194  3/14/2011 13:53       1.69     15388.0              13.52  \n119195  3/14/2011 13:53       0.65     15388.0              10.40  \n...                 ...        ...         ...                ...  \n312960  8/25/2011 11:27       1.25     17844.0              15.00  \n312961  8/25/2011 11:27       0.83     17844.0               6.64  \n312962  8/25/2011 11:27       0.83     17844.0              13.28  \n312963  8/25/2011 11:27       1.25     17844.0              10.00  \n312964  8/25/2011 11:27       0.83     17844.0               6.64  \n\n[151 rows x 8 columns]",
      "text/html": "<div>\n<style scoped>\n    .dataframe tbody tr th:only-of-type {\n        vertical-align: middle;\n    }\n\n    .dataframe tbody tr th {\n        vertical-align: top;\n    }\n\n    .dataframe thead th {\n        text-align: right;\n    }\n</style>\n<table border=\"1\" class=\"dataframe\">\n  <thead>\n    <tr style=\"text-align: right;\">\n      <th></th>\n      <th>InvoiceNo</th>\n      <th>StockCode</th>\n      <th>Description</th>\n      <th>Quantity</th>\n      <th>InvoiceDate</th>\n      <th>UnitPrice</th>\n      <th>CustomerID</th>\n      <th>TransactionAmount</th>\n    </tr>\n  </thead>\n  <tbody>\n    <tr>\n      <th>119191</th>\n      <td>546533</td>\n      <td>20886</td>\n      <td>BOX OF 9 PEBBLE CANDLES</td>\n      <td>12</td>\n      <td>3/14/2011 13:53</td>\n      <td>1.95</td>\n      <td>15388.0</td>\n      <td>23.40</td>\n    </tr>\n    <tr>\n      <th>119192</th>\n      <td>546533</td>\n      <td>79030D</td>\n      <td>TUMBLER, BAROQUE</td>\n      <td>6</td>\n      <td>3/14/2011 13:53</td>\n      <td>1.65</td>\n      <td>15388.0</td>\n      <td>9.90</td>\n    </tr>\n    <tr>\n      <th>119193</th>\n      <td>546533</td>\n      <td>21132</td>\n      <td>SILVER STANDING GNOME</td>\n      <td>4</td>\n      <td>3/14/2011 13:53</td>\n      <td>4.25</td>\n      <td>15388.0</td>\n      <td>17.00</td>\n    </tr>\n    <tr>\n      <th>119194</th>\n      <td>546533</td>\n      <td>84879</td>\n      <td>ASSORTED COLOUR BIRD ORNAMENT</td>\n      <td>8</td>\n      <td>3/14/2011 13:53</td>\n      <td>1.69</td>\n      <td>15388.0</td>\n      <td>13.52</td>\n    </tr>\n    <tr>\n      <th>119195</th>\n      <td>546533</td>\n      <td>84755</td>\n      <td>COLOUR GLASS T-LIGHT HOLDER HANGING</td>\n      <td>16</td>\n      <td>3/14/2011 13:53</td>\n      <td>0.65</td>\n      <td>15388.0</td>\n      <td>10.40</td>\n    </tr>\n    <tr>\n      <th>...</th>\n      <td>...</td>\n      <td>...</td>\n      <td>...</td>\n      <td>...</td>\n      <td>...</td>\n      <td>...</td>\n      <td>...</td>\n      <td>...</td>\n    </tr>\n    <tr>\n      <th>312960</th>\n      <td>564428</td>\n      <td>21993</td>\n      <td>FLORAL FOLK STATIONERY SET</td>\n      <td>12</td>\n      <td>8/25/2011 11:27</td>\n      <td>1.25</td>\n      <td>17844.0</td>\n      <td>15.00</td>\n    </tr>\n    <tr>\n      <th>312961</th>\n      <td>564428</td>\n      <td>23295</td>\n      <td>SET OF 12 MINI LOAF BAKING CASES</td>\n      <td>8</td>\n      <td>8/25/2011 11:27</td>\n      <td>0.83</td>\n      <td>17844.0</td>\n      <td>6.64</td>\n    </tr>\n    <tr>\n      <th>312962</th>\n      <td>564428</td>\n      <td>23293</td>\n      <td>SET OF 12 FAIRY CAKE BAKING CASES</td>\n      <td>16</td>\n      <td>8/25/2011 11:27</td>\n      <td>0.83</td>\n      <td>17844.0</td>\n      <td>13.28</td>\n    </tr>\n    <tr>\n      <th>312963</th>\n      <td>564428</td>\n      <td>23296</td>\n      <td>SET OF 6 TEA TIME BAKING CASES</td>\n      <td>8</td>\n      <td>8/25/2011 11:27</td>\n      <td>1.25</td>\n      <td>17844.0</td>\n      <td>10.00</td>\n    </tr>\n    <tr>\n      <th>312964</th>\n      <td>564428</td>\n      <td>23294</td>\n      <td>SET OF 6 SNACK LOAF BAKING CASES</td>\n      <td>8</td>\n      <td>8/25/2011 11:27</td>\n      <td>0.83</td>\n      <td>17844.0</td>\n      <td>6.64</td>\n    </tr>\n  </tbody>\n</table>\n<p>151 rows × 8 columns</p>\n</div>"
     },
     "execution_count": 4,
     "metadata": {},
     "output_type": "execute_result"
    }
   ],
   "source": [
    "# input country\n",
    "countries = data.Country.unique()\n",
    "print(countries)\n",
    "country_input = input('Enter country: ')\n",
    "by_country = data.groupby(data.Country).get_group(country_input).drop('Country', axis=1)\n",
    "by_country"
   ],
   "metadata": {
    "collapsed": false,
    "pycharm": {
     "name": "#%%\n"
    }
   }
  },
  {
   "cell_type": "code",
   "execution_count": 175,
   "outputs": [
    {
     "data": {
      "text/plain": "{'United Kingdom': 495478,\n 'France': 8557,\n 'Australia': 1259,\n 'Netherlands': 2371,\n 'Germany': 9495,\n 'Norway': 1086,\n 'EIRE': 8196,\n 'Switzerland': 2002,\n 'Spain': 2533,\n 'Poland': 341,\n 'Portugal': 1519,\n 'Italy': 803,\n 'Belgium': 2069,\n 'Lithuania': 35,\n 'Japan': 358,\n 'Iceland': 182,\n 'Channel Islands': 758,\n 'Denmark': 389,\n 'Cyprus': 622,\n 'Sweden': 462,\n 'Austria': 401,\n 'Israel': 297,\n 'Finland': 695,\n 'Bahrain': 19,\n 'Greece': 146,\n 'Hong Kong': 288,\n 'Singapore': 229,\n 'Lebanon': 45,\n 'United Arab Emirates': 68,\n 'Saudi Arabia': 10,\n 'Czech Republic': 30,\n 'Canada': 151,\n 'Unspecified': 446,\n 'Brazil': 32,\n 'USA': 291,\n 'European Community': 61,\n 'Malta': 127,\n 'RSA': 58}"
     },
     "execution_count": 175,
     "metadata": {},
     "output_type": "execute_result"
    }
   ],
   "source": [
    "# number of sales by country\n",
    "num_of_sales = {}\n",
    "for i in countries:\n",
    "    num_of_sales[i] = len(data.groupby(data.Country).get_group(i).index)\n",
    "num_of_sales"
   ],
   "metadata": {
    "collapsed": false,
    "pycharm": {
     "name": "#%%\n"
    }
   }
  },
  {
   "cell_type": "code",
   "execution_count": 167,
   "outputs": [
    {
     "data": {
      "text/plain": "{'United Kingdom': 8187806.364001113,\n 'France': 197403.90000000002,\n 'Australia': 137077.26999999973,\n 'Netherlands': 284661.54000000015,\n 'Germany': 221698.20999999862,\n 'Norway': 35163.46000000004,\n 'EIRE': 263276.81999999826,\n 'Switzerland': 56385.35000000009,\n 'Spain': 54774.57999999997,\n 'Poland': 7213.139999999997,\n 'Portugal': 29367.019999999993,\n 'Italy': 16890.510000000002,\n 'Belgium': 40910.95999999998,\n 'Lithuania': 1661.06,\n 'Japan': 35340.62,\n 'Iceland': 4309.999999999997,\n 'Channel Islands': 20086.289999999957,\n 'Denmark': 18768.140000000003,\n 'Cyprus': 12946.289999999999,\n 'Sweden': 36595.91,\n 'Austria': 10154.319999999996,\n 'Israel': 7907.819999999995,\n 'Finland': 22326.73999999997,\n 'Bahrain': 548.4,\n 'Greece': 4710.5199999999995,\n 'Hong Kong': 10117.040000000003,\n 'Singapore': 9120.39,\n 'Lebanon': 1693.8800000000003,\n 'United Arab Emirates': 1902.2800000000007,\n 'Saudi Arabia': 131.17,\n 'Czech Republic': 707.72,\n 'Canada': 3666.380000000001,\n 'Unspecified': 4749.789999999996,\n 'Brazil': 1143.6000000000001,\n 'USA': 1730.9200000000005,\n 'European Community': 1291.75,\n 'Malta': 2505.4700000000003,\n 'RSA': 1002.3099999999998}"
     },
     "execution_count": 167,
     "metadata": {},
     "output_type": "execute_result"
    }
   ],
   "source": [
    "# finding total revenue by country\n",
    "total_revenue = {}\n",
    "for j in countries:\n",
    "    total_revenue[j] = sum(data.groupby(data.Country).get_group(j)['TransactionAmount'])\n",
    "total_revenue"
   ],
   "metadata": {
    "collapsed": false,
    "pycharm": {
     "name": "#%%\n"
    }
   }
  },
  {
   "cell_type": "code",
   "execution_count": 178,
   "outputs": [
    {
     "name": "stdout",
     "output_type": "stream",
     "text": [
      "United Kingdom: 8187806.364001113\n"
     ]
    }
   ],
   "source": [
    "# finding country with highest revenue\n",
    "def key_with_max_val(d):\n",
    "     v = list(d.values())\n",
    "     k = list(d.keys())\n",
    "     return k[v.index(max(v))] +': ' + str(d[k[v.index(max(v))]])\n",
    "print(key_with_max_val(total_revenue))"
   ],
   "metadata": {
    "collapsed": false,
    "pycharm": {
     "name": "#%%\n"
    }
   }
  },
  {
   "cell_type": "code",
   "execution_count": 169,
   "metadata": {
    "collapsed": true
   },
   "outputs": [
    {
     "data": {
      "text/plain": "{'United Kingdom': 83.99690286860519,\n 'France': 2.0251231498446316,\n 'Australia': 1.4062455341282643,\n 'Netherlands': 2.9202800680453826,\n 'Germany': 2.274353127522373,\n 'Norway': 0.3607341945860026,\n 'EIRE': 2.700898933605033,\n 'Switzerland': 0.5784448919048316,\n 'Spain': 0.5619203571004255,\n 'Poland': 0.07399801522193988,\n 'Portugal': 0.301269792764734,\n 'Italy': 0.1732760234913406,\n 'Belgium': 0.4196965317218539,\n 'Lithuania': 0.017040448842606068,\n 'Japan': 0.36255164002262463,\n 'Iceland': 0.044215341114488396,\n 'Channel Islands': 0.2060608269314468,\n 'Denmark': 0.19253821628410092,\n 'Cyprus': 0.13281313886707433,\n 'Sweden': 0.37542938376916896,\n 'Austria': 0.10417093331454105,\n 'Israel': 0.08112458440185003,\n 'Finland': 0.22904511022610025,\n 'Bahrain': 0.0056259148647762065,\n 'Greece': 0.04832418761638515,\n 'Hong Kong': 0.10378848600207057,\n 'Singapore': 0.09356407307358912,\n 'Lebanon': 0.017377141996986003,\n 'United Arab Emirates': 0.01951507171583969,\n 'Saudi Arabia': 0.0013456441517372265,\n 'Czech Republic': 0.007260343669036137,\n 'Canada': 0.037612585233257105,\n 'Unspecified': 0.04872704990073917,\n 'Brazil': 0.01173194062610881,\n 'USA': 0.017757127202294738,\n 'European Community': 0.013251778859545342,\n 'Malta': 0.025703065128101468,\n 'RSA': 0.010282477622381181}"
     },
     "execution_count": 169,
     "metadata": {},
     "output_type": "execute_result"
    }
   ],
   "source": [
    "# percentage of revenue by country\n",
    "sales_percent = {}\n",
    "for k in countries:\n",
    "    total_amount = sum(data['TransactionAmount'])\n",
    "    country_amount = sum(data.groupby(data.Country).get_group(k)['TransactionAmount'])\n",
    "    sales_percent[k] = (float(country_amount) / float(total_amount)) * 100\n",
    "sales_percent"
   ]
  },
  {
   "cell_type": "code",
   "execution_count": 170,
   "outputs": [
    {
     "data": {
      "text/plain": "{'United Kingdom': 4263829,\n 'France': 110480,\n 'Australia': 83653,\n 'Netherlands': 200128,\n 'Germany': 117448,\n 'Norway': 19247,\n 'EIRE': 142637,\n 'Switzerland': 30325,\n 'Spain': 26824,\n 'Poland': 3653,\n 'Portugal': 16180,\n 'Italy': 7999,\n 'Belgium': 23152,\n 'Lithuania': 652,\n 'Japan': 25218,\n 'Iceland': 2458,\n 'Channel Islands': 9479,\n 'Denmark': 8188,\n 'Cyprus': 6317,\n 'Sweden': 35637,\n 'Austria': 4827,\n 'Israel': 4353,\n 'Finland': 10666,\n 'Bahrain': 260,\n 'Greece': 1556,\n 'Hong Kong': 4769,\n 'Singapore': 5234,\n 'Lebanon': 386,\n 'United Arab Emirates': 982,\n 'Saudi Arabia': 75,\n 'Czech Republic': 592,\n 'Canada': 2763,\n 'Unspecified': 3300,\n 'Brazil': 356,\n 'USA': 1034,\n 'European Community': 497,\n 'Malta': 944,\n 'RSA': 352}"
     },
     "execution_count": 170,
     "metadata": {},
     "output_type": "execute_result"
    }
   ],
   "source": [
    "# total quantity sold\n",
    "quantity_sold = {}\n",
    "for l in countries:\n",
    "    quantity_sold[l] = sum(data.groupby(data.Country).get_group(l)['Quantity'])\n",
    "quantity_sold"
   ],
   "metadata": {
    "collapsed": false,
    "pycharm": {
     "name": "#%%\n"
    }
   }
  },
  {
   "cell_type": "code",
   "execution_count": 171,
   "outputs": [
    {
     "data": {
      "text/plain": "<Figure size 432x288 with 1 Axes>",
      "image/png": "[encoded data removed]"
     },
     "metadata": {
      "needs_background": "light"
     },
     "output_type": "display_data"
    }
   ],
   "source": [
    "# plotting total revenue and quantity sold on scatter plot\n",
    "def plot(x, y):\n",
    "    plt.scatter(x, y)\n",
    "    plt.xlabel('revenue')\n",
    "    plt.ylabel('quantity sold')\n",
    "plot(total_revenue.values(), quantity_sold.values())"
   ],
   "metadata": {
    "collapsed": false,
    "pycharm": {
     "name": "#%%\n"
    }
   }
  },
  {
   "cell_type": "code",
   "execution_count": 174,
   "outputs": [
    {
     "data": {
      "text/plain": "<Figure size 432x288 with 1 Axes>",
      "image/png": "[encoded data removed]"
     },
     "metadata": {
      "needs_background": "light"
     },
     "output_type": "display_data"
    }
   ],
   "source": [
    "# removing united kingdom because it is an outlier\n",
    "def remove_key(d, key):\n",
    "    r = dict(d)\n",
    "    del r[key]\n",
    "    return r\n",
    "\n",
    "x = remove_key(total_revenue, 'United Kingdom').values()\n",
    "y = list(map(float, remove_key(quantity_sold, 'United Kingdom').values()))\n",
    "\n",
    "plot(x, y)"
   ],
   "metadata": {
    "collapsed": false,
    "pycharm": {
     "name": "#%%\n"
    }
   }
  }
 ],
 "metadata": {
  "kernelspec": {
   "display_name": "Python 3",
   "language": "python",
   "name": "python3"
  },
  "language_info": {
   "codemirror_mode": {
    "name": "ipython",
    "version": 2
   },
   "file_extension": ".py",
   "mimetype": "text/x-python",
   "name": "python",
   "nbconvert_exporter": "python",
   "pygments_lexer": "ipython2",
   "version": "2.7.6"
  }
 },
 "nbformat": 4,
 "nbformat_minor": 0
}